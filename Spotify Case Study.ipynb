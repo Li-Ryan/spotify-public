{
 "cells": [
  {
   "cell_type": "code",
   "execution_count": 53,
   "metadata": {},
   "outputs": [],
   "source": [
    "import pandas as pd\n",
    "import matplotlib.pyplot as plt\n",
    "import numpy as np\n",
    "import seaborn as sns"
   ]
  },
  {
   "cell_type": "code",
   "execution_count": 71,
   "metadata": {},
   "outputs": [],
   "source": [
    "# read in data file\n",
    "df = pd.read_csv('playlist_revision_v02.txt', delimiter = \"\\t\")"
   ]
  },
  {
   "cell_type": "code",
   "execution_count": 72,
   "metadata": {},
   "outputs": [
    {
     "data": {
      "text/plain": [
       "(403366, 25)"
      ]
     },
     "execution_count": 72,
     "metadata": {},
     "output_type": "execute_result"
    }
   ],
   "source": [
    "## Data has 403,366 playlists and has 25 columns of data\n",
    "df.shape"
   ]
  },
  {
   "cell_type": "code",
   "execution_count": 122,
   "metadata": {},
   "outputs": [
    {
     "data": {
      "text/html": [
       "<div>\n",
       "<style scoped>\n",
       "    .dataframe tbody tr th:only-of-type {\n",
       "        vertical-align: middle;\n",
       "    }\n",
       "\n",
       "    .dataframe tbody tr th {\n",
       "        vertical-align: top;\n",
       "    }\n",
       "\n",
       "    .dataframe thead th {\n",
       "        text-align: right;\n",
       "    }\n",
       "</style>\n",
       "<table border=\"1\" class=\"dataframe\">\n",
       "  <thead>\n",
       "    <tr style=\"text-align: right;\">\n",
       "      <th></th>\n",
       "      <th>playlist_uri</th>\n",
       "      <th>owner</th>\n",
       "      <th>streams</th>\n",
       "      <th>stream30s</th>\n",
       "      <th>dau</th>\n",
       "      <th>wau</th>\n",
       "      <th>mau</th>\n",
       "      <th>mau_previous_month</th>\n",
       "      <th>mau_both_months</th>\n",
       "      <th>users</th>\n",
       "      <th>...</th>\n",
       "      <th>monthly_owner_stream30s</th>\n",
       "      <th>tokens</th>\n",
       "      <th>genre_1</th>\n",
       "      <th>genre_2</th>\n",
       "      <th>genre_3</th>\n",
       "      <th>mood_1</th>\n",
       "      <th>mood_2</th>\n",
       "      <th>mood_3</th>\n",
       "      <th>owner_num_playlists</th>\n",
       "      <th>monthly_self_streams_30s</th>\n",
       "    </tr>\n",
       "  </thead>\n",
       "  <tbody>\n",
       "    <tr>\n",
       "      <th>0</th>\n",
       "      <td>spotify:user:36069af6af076ccd9e597184a67b68c9:...</td>\n",
       "      <td>36069af6af076ccd9e597184a67b68c9</td>\n",
       "      <td>27</td>\n",
       "      <td>27</td>\n",
       "      <td>1</td>\n",
       "      <td>1</td>\n",
       "      <td>3</td>\n",
       "      <td>3</td>\n",
       "      <td>0</td>\n",
       "      <td>8</td>\n",
       "      <td>...</td>\n",
       "      <td>27</td>\n",
       "      <td>[\"ambient\", \"music\", \"therapy\", \"binaural\", \"b...</td>\n",
       "      <td>Dance &amp; House</td>\n",
       "      <td>New Age</td>\n",
       "      <td>Country &amp; Folk</td>\n",
       "      <td>Peaceful</td>\n",
       "      <td>Romantic</td>\n",
       "      <td>Somber</td>\n",
       "      <td>2</td>\n",
       "      <td>0.900000</td>\n",
       "    </tr>\n",
       "    <tr>\n",
       "      <th>1</th>\n",
       "      <td>spotify:user:d1144a65b1c31c5f9f56b94f831124d5:...</td>\n",
       "      <td>d1144a65b1c31c5f9f56b94f831124d5</td>\n",
       "      <td>0</td>\n",
       "      <td>0</td>\n",
       "      <td>0</td>\n",
       "      <td>1</td>\n",
       "      <td>2</td>\n",
       "      <td>1</td>\n",
       "      <td>1</td>\n",
       "      <td>3</td>\n",
       "      <td>...</td>\n",
       "      <td>94</td>\n",
       "      <td>[\"good\", \"living\"]</td>\n",
       "      <td>Pop</td>\n",
       "      <td>Indie Rock</td>\n",
       "      <td>Alternative</td>\n",
       "      <td>Excited</td>\n",
       "      <td>Yearning</td>\n",
       "      <td>Defiant</td>\n",
       "      <td>1</td>\n",
       "      <td>0.839286</td>\n",
       "    </tr>\n",
       "    <tr>\n",
       "      <th>2</th>\n",
       "      <td>spotify:user:6b7fbed9edd6418ddd3b555bba441536:...</td>\n",
       "      <td>6b7fbed9edd6418ddd3b555bba441536</td>\n",
       "      <td>4</td>\n",
       "      <td>2</td>\n",
       "      <td>1</td>\n",
       "      <td>1</td>\n",
       "      <td>7</td>\n",
       "      <td>5</td>\n",
       "      <td>0</td>\n",
       "      <td>15</td>\n",
       "      <td>...</td>\n",
       "      <td>0</td>\n",
       "      <td>[\"norteña\"]</td>\n",
       "      <td>Latin</td>\n",
       "      <td>-</td>\n",
       "      <td>-</td>\n",
       "      <td>Lively</td>\n",
       "      <td>Upbeat</td>\n",
       "      <td>Romantic</td>\n",
       "      <td>2</td>\n",
       "      <td>0.000000</td>\n",
       "    </tr>\n",
       "    <tr>\n",
       "      <th>3</th>\n",
       "      <td>spotify:user:580b98725077a94c3c8d01d07390426b:...</td>\n",
       "      <td>580b98725077a94c3c8d01d07390426b</td>\n",
       "      <td>12</td>\n",
       "      <td>12</td>\n",
       "      <td>1</td>\n",
       "      <td>1</td>\n",
       "      <td>4</td>\n",
       "      <td>6</td>\n",
       "      <td>1</td>\n",
       "      <td>10</td>\n",
       "      <td>...</td>\n",
       "      <td>108</td>\n",
       "      <td>[]</td>\n",
       "      <td>Dance &amp; House</td>\n",
       "      <td>Electronica</td>\n",
       "      <td>Pop</td>\n",
       "      <td>Excited</td>\n",
       "      <td>Aggressive</td>\n",
       "      <td>Defiant</td>\n",
       "      <td>3</td>\n",
       "      <td>0.701299</td>\n",
       "    </tr>\n",
       "    <tr>\n",
       "      <th>4</th>\n",
       "      <td>spotify:user:1305d39070c95d161cc502e15014897d:...</td>\n",
       "      <td>1305d39070c95d161cc502e15014897d</td>\n",
       "      <td>20</td>\n",
       "      <td>4</td>\n",
       "      <td>1</td>\n",
       "      <td>1</td>\n",
       "      <td>2</td>\n",
       "      <td>1</td>\n",
       "      <td>1</td>\n",
       "      <td>2</td>\n",
       "      <td>...</td>\n",
       "      <td>0</td>\n",
       "      <td>[\"cheesy\", \"pants\"]</td>\n",
       "      <td>Indie Rock</td>\n",
       "      <td>Alternative</td>\n",
       "      <td>Electronica</td>\n",
       "      <td>Excited</td>\n",
       "      <td>Defiant</td>\n",
       "      <td>Yearning</td>\n",
       "      <td>1</td>\n",
       "      <td>0.000000</td>\n",
       "    </tr>\n",
       "  </tbody>\n",
       "</table>\n",
       "<p>5 rows × 27 columns</p>\n",
       "</div>"
      ],
      "text/plain": [
       "                                        playlist_uri  \\\n",
       "0  spotify:user:36069af6af076ccd9e597184a67b68c9:...   \n",
       "1  spotify:user:d1144a65b1c31c5f9f56b94f831124d5:...   \n",
       "2  spotify:user:6b7fbed9edd6418ddd3b555bba441536:...   \n",
       "3  spotify:user:580b98725077a94c3c8d01d07390426b:...   \n",
       "4  spotify:user:1305d39070c95d161cc502e15014897d:...   \n",
       "\n",
       "                              owner  streams  stream30s  dau  wau  mau  \\\n",
       "0  36069af6af076ccd9e597184a67b68c9       27         27    1    1    3   \n",
       "1  d1144a65b1c31c5f9f56b94f831124d5        0          0    0    1    2   \n",
       "2  6b7fbed9edd6418ddd3b555bba441536        4          2    1    1    7   \n",
       "3  580b98725077a94c3c8d01d07390426b       12         12    1    1    4   \n",
       "4  1305d39070c95d161cc502e15014897d       20          4    1    1    2   \n",
       "\n",
       "   mau_previous_month  mau_both_months  users  ...  monthly_owner_stream30s  \\\n",
       "0                   3                0      8  ...                       27   \n",
       "1                   1                1      3  ...                       94   \n",
       "2                   5                0     15  ...                        0   \n",
       "3                   6                1     10  ...                      108   \n",
       "4                   1                1      2  ...                        0   \n",
       "\n",
       "                                              tokens        genre_1  \\\n",
       "0  [\"ambient\", \"music\", \"therapy\", \"binaural\", \"b...  Dance & House   \n",
       "1                                 [\"good\", \"living\"]            Pop   \n",
       "2                                        [\"norteña\"]          Latin   \n",
       "3                                                 []  Dance & House   \n",
       "4                                [\"cheesy\", \"pants\"]     Indie Rock   \n",
       "\n",
       "       genre_2         genre_3    mood_1      mood_2    mood_3  \\\n",
       "0      New Age  Country & Folk  Peaceful    Romantic    Somber   \n",
       "1   Indie Rock     Alternative   Excited    Yearning   Defiant   \n",
       "2            -               -    Lively      Upbeat  Romantic   \n",
       "3  Electronica             Pop   Excited  Aggressive   Defiant   \n",
       "4  Alternative     Electronica   Excited     Defiant  Yearning   \n",
       "\n",
       "  owner_num_playlists monthly_self_streams_30s  \n",
       "0                   2                 0.900000  \n",
       "1                   1                 0.839286  \n",
       "2                   2                 0.000000  \n",
       "3                   3                 0.701299  \n",
       "4                   1                 0.000000  \n",
       "\n",
       "[5 rows x 27 columns]"
      ]
     },
     "execution_count": 122,
     "metadata": {},
     "output_type": "execute_result"
    }
   ],
   "source": [
    "df.head()"
   ]
  },
  {
   "cell_type": "code",
   "execution_count": 74,
   "metadata": {},
   "outputs": [
    {
     "data": {
      "text/plain": [
       "playlist_uri               0\n",
       "owner                      0\n",
       "streams                    0\n",
       "stream30s                  0\n",
       "dau                        0\n",
       "wau                        0\n",
       "mau                        0\n",
       "mau_previous_month         0\n",
       "mau_both_months            0\n",
       "users                      0\n",
       "skippers                   0\n",
       "owner_country              0\n",
       "n_tracks                   0\n",
       "n_local_tracks             0\n",
       "n_artists                  0\n",
       "n_albums                   0\n",
       "monthly_stream30s          0\n",
       "monthly_owner_stream30s    0\n",
       "tokens                     0\n",
       "genre_1                    0\n",
       "genre_2                    0\n",
       "genre_3                    0\n",
       "mood_1                     0\n",
       "mood_2                     0\n",
       "mood_3                     0\n",
       "dtype: int64"
      ]
     },
     "execution_count": 74,
     "metadata": {},
     "output_type": "execute_result"
    }
   ],
   "source": [
    "# check data for any null values\n",
    "df.isnull().sum()\n",
    "\n",
    "# no nulls in the data"
   ]
  },
  {
   "cell_type": "code",
   "execution_count": 75,
   "metadata": {},
   "outputs": [],
   "source": [
    "## New Column Creation\n",
    "\n",
    "## Find the number of playlists owned by user\n",
    "df['owner_num_playlists'] = df.groupby('owner').owner.transform('count')\n",
    "\n",
    "## Find the proportion of streams from owner (monthly_owner_stream30s/monthly_stream30s)\n",
    "df['monthly_self_streams_30s'] = df['monthly_owner_stream30s'] / df['monthly_stream30s']"
   ]
  },
  {
   "cell_type": "code",
   "execution_count": 93,
   "metadata": {},
   "outputs": [],
   "source": [
    "## Convert categorical variables to dummy variables\n",
    "df_dummies = pd.get_dummies(df[['genre_1','genre_2','genre_3'\n",
    "                                ,'mood_1','mood_2','mood_3' ]])\n",
    "\n",
    "## Combine dummy variables to main df\n",
    "df_main = pd.concat([df,df_dummies], axis =1)"
   ]
  },
  {
   "cell_type": "code",
   "execution_count": 99,
   "metadata": {},
   "outputs": [
    {
     "data": {
      "text/html": [
       "<div>\n",
       "<style scoped>\n",
       "    .dataframe tbody tr th:only-of-type {\n",
       "        vertical-align: middle;\n",
       "    }\n",
       "\n",
       "    .dataframe tbody tr th {\n",
       "        vertical-align: top;\n",
       "    }\n",
       "\n",
       "    .dataframe thead th {\n",
       "        text-align: right;\n",
       "    }\n",
       "</style>\n",
       "<table border=\"1\" class=\"dataframe\">\n",
       "  <thead>\n",
       "    <tr style=\"text-align: right;\">\n",
       "      <th></th>\n",
       "      <th>owner</th>\n",
       "      <th>owner_num_playlists</th>\n",
       "    </tr>\n",
       "  </thead>\n",
       "  <tbody>\n",
       "    <tr>\n",
       "      <th>29</th>\n",
       "      <td>spotify</td>\n",
       "      <td>399</td>\n",
       "    </tr>\n",
       "    <tr>\n",
       "      <th>1451</th>\n",
       "      <td>6987037f34b5cee787a1a5e8de9b2689</td>\n",
       "      <td>48</td>\n",
       "    </tr>\n",
       "    <tr>\n",
       "      <th>16375</th>\n",
       "      <td>a5add6d0d5fbebb01abb2fbe7e47208d</td>\n",
       "      <td>47</td>\n",
       "    </tr>\n",
       "    <tr>\n",
       "      <th>6730</th>\n",
       "      <td>f54f32d1c706754a70f8392aa1dbad46</td>\n",
       "      <td>44</td>\n",
       "    </tr>\n",
       "    <tr>\n",
       "      <th>2154</th>\n",
       "      <td>4a03268bef1505a49f8b3eced879f311</td>\n",
       "      <td>43</td>\n",
       "    </tr>\n",
       "    <tr>\n",
       "      <th>...</th>\n",
       "      <td>...</td>\n",
       "      <td>...</td>\n",
       "    </tr>\n",
       "    <tr>\n",
       "      <th>139666</th>\n",
       "      <td>8b50775af2843b1ce30307b17d306527</td>\n",
       "      <td>1</td>\n",
       "    </tr>\n",
       "    <tr>\n",
       "      <th>139667</th>\n",
       "      <td>aa73a2cd968820987ad191c2245ac1c6</td>\n",
       "      <td>1</td>\n",
       "    </tr>\n",
       "    <tr>\n",
       "      <th>139671</th>\n",
       "      <td>c6bb73330724c6cd84dc4ecd78bea9f4</td>\n",
       "      <td>1</td>\n",
       "    </tr>\n",
       "    <tr>\n",
       "      <th>139672</th>\n",
       "      <td>491a8ba29147a865ca298f285d513a9b</td>\n",
       "      <td>1</td>\n",
       "    </tr>\n",
       "    <tr>\n",
       "      <th>403365</th>\n",
       "      <td>b3752c94e387192b7950b687453bcf45</td>\n",
       "      <td>1</td>\n",
       "    </tr>\n",
       "  </tbody>\n",
       "</table>\n",
       "<p>314899 rows × 2 columns</p>\n",
       "</div>"
      ],
      "text/plain": [
       "                                   owner  owner_num_playlists\n",
       "29                               spotify                  399\n",
       "1451    6987037f34b5cee787a1a5e8de9b2689                   48\n",
       "16375   a5add6d0d5fbebb01abb2fbe7e47208d                   47\n",
       "6730    f54f32d1c706754a70f8392aa1dbad46                   44\n",
       "2154    4a03268bef1505a49f8b3eced879f311                   43\n",
       "...                                  ...                  ...\n",
       "139666  8b50775af2843b1ce30307b17d306527                    1\n",
       "139667  aa73a2cd968820987ad191c2245ac1c6                    1\n",
       "139671  c6bb73330724c6cd84dc4ecd78bea9f4                    1\n",
       "139672  491a8ba29147a865ca298f285d513a9b                    1\n",
       "403365  b3752c94e387192b7950b687453bcf45                    1\n",
       "\n",
       "[314899 rows x 2 columns]"
      ]
     },
     "execution_count": 99,
     "metadata": {},
     "output_type": "execute_result"
    }
   ],
   "source": [
    "## Spotify owns 399 playtlists - We'll want to remove these from any analysis as they would introduce outliers \n",
    "## since Spotify can control the exposure of their own playlists.\n",
    "\n",
    "df_main[['owner', 'owner_num_playlists']].drop_duplicates().sort_values(by = 'owner_num_playlists', ascending = False)"
   ]
  },
  {
   "cell_type": "code",
   "execution_count": 119,
   "metadata": {},
   "outputs": [],
   "source": [
    "### Outlier removal\n",
    "\n",
    "### Remove using IQR\n",
    "# Q1 = df['monthly_stream30s'].quantile(0.25)\n",
    "# Q3 = df['monthly_stream30s'].quantile(0.75)\n",
    "# IQR = Q3 - Q1\n",
    "\n",
    "# # Filtering Values between Q1-1.5IQR and Q3+1.5IQR\n",
    "# filtered_data_outliers = df.query('(@Q1 - 1.5 * @IQR) <= monthly_stream30s <= (@Q3 + 1.5 * @IQR)')\n",
    "# # excluded = df.query('monthly_stream30s >= (@Q3 + 1.5 * @IQR)')\n",
    "\n",
    "\n",
    "## Remove and playlists outside of the 95th percentile\n",
    "df_no_spotify = df_main.query('monthly_owner_stream30s < monthly_owner_stream30s.quantile(.99)')\n",
    "df_no_spotify = df_no_spotify[df_no_spotify[\"owner\"]!=\"spotify\"]"
   ]
  },
  {
   "cell_type": "code",
   "execution_count": 116,
   "metadata": {},
   "outputs": [],
   "source": [
    "## Create a function that will take in 2 variables and plot them with a line of best fit. \n",
    "## Must include axis labels and chart title\n",
    "\n",
    "def plotter(x, y, x_lab, y_lab, chart_title):\n",
    "    table = df_no_spotify.groupby(x)[y].mean().reset_index().sort_values(x,ascending = True)\n",
    "    p = sns.regplot(table[x],table[y], ci=None)\n",
    "    p.set(xlabel = x_lab, ylabel = y_lab, title = chart_title)"
   ]
  },
  {
   "cell_type": "code",
   "execution_count": 15,
   "metadata": {},
   "outputs": [
    {
     "name": "stdout",
     "output_type": "stream",
     "text": [
      "Unique values in playlist_uri: 403366\n",
      "Unique values in owner: 314899\n",
      "Unique values in streams: 1639\n",
      "Unique values in stream30s: 1329\n",
      "Unique values in dau: 566\n",
      "Unique values in wau: 1019\n",
      "Unique values in mau: 1597\n",
      "Unique values in mau_previous_month: 1552\n",
      "Unique values in mau_both_months: 765\n",
      "Unique values in users: 2293\n",
      "Unique values in skippers: 522\n",
      "Unique values in owner_country: 1\n",
      "Unique values in n_tracks: 4134\n",
      "Unique values in n_local_tracks: 576\n",
      "Unique values in n_artists: 1560\n",
      "Unique values in n_albums: 1621\n",
      "Unique values in monthly_stream30s: 6094\n",
      "Unique values in monthly_owner_stream30s: 2418\n",
      "Unique values in tokens: 192095\n",
      "Unique values in genre_1: 26\n",
      "Unique values in genre_2: 26\n",
      "Unique values in genre_3: 26\n",
      "Unique values in mood_1: 27\n",
      "Unique values in mood_2: 27\n",
      "Unique values in mood_3: 27\n"
     ]
    }
   ],
   "source": [
    "# check number of unique values in each column\n",
    "for i in list(df.columns):\n",
    "    print(f'Unique values in {i}: {df[i].nunique()}')"
   ]
  },
  {
   "cell_type": "code",
   "execution_count": 17,
   "metadata": {},
   "outputs": [
    {
     "data": {
      "text/plain": [
       "playlist_uri               object\n",
       "owner                      object\n",
       "streams                     int64\n",
       "stream30s                   int64\n",
       "dau                         int64\n",
       "wau                         int64\n",
       "mau                         int64\n",
       "mau_previous_month          int64\n",
       "mau_both_months             int64\n",
       "users                       int64\n",
       "skippers                    int64\n",
       "owner_country              object\n",
       "n_tracks                    int64\n",
       "n_local_tracks              int64\n",
       "n_artists                   int64\n",
       "n_albums                    int64\n",
       "monthly_stream30s           int64\n",
       "monthly_owner_stream30s     int64\n",
       "tokens                     object\n",
       "genre_1                    object\n",
       "genre_2                    object\n",
       "genre_3                    object\n",
       "mood_1                     object\n",
       "mood_2                     object\n",
       "mood_3                     object\n",
       "dtype: object"
      ]
     },
     "execution_count": 17,
     "metadata": {},
     "output_type": "execute_result"
    }
   ],
   "source": [
    "# check column types\n",
    "df.dtypes"
   ]
  },
  {
   "cell_type": "markdown",
   "metadata": {},
   "source": [
    "### Presentation Set Up\n",
    "#### Options\n",
    "* Short term options - DAU/WAU/streams30\n",
    "* Long term options - MAU/monthly_owner_stream30s/monthly_stream30s\n",
    "\n",
    "#### Considerations\n",
    "* need to balance short term and long term. DAU and WAU might have too much noise depending on people's lives. MAU is a much smoother metric\n",
    "\n",
    "#### Goal of playlists\n",
    "* Maximize listening time\n",
    "* Assumption is that playlists are usually created by the user, and usually for the user.\n",
    "* Check this by creating a histogram of users per playlist - most should have on avg 1 user\n",
    "\n",
    "#### Selection\n",
    "* Land on 30 days MAU\n",
    "* Success of a metric is the number of streams it gets overtime, not important if its from the owner or not\n",
    "\n",
    "\n"
   ]
  },
  {
   "cell_type": "code",
   "execution_count": null,
   "metadata": {},
   "outputs": [],
   "source": []
  },
  {
   "cell_type": "markdown",
   "metadata": {},
   "source": [
    "### Data Preparation\n",
    "\n",
    "#### New data to create\n",
    "* Proportion of streams from owner (monthly_owner_stream30s/monthly_stream30s) \n",
    "* Number of playlists created by the owner (Assign count of user playlists per row)\n",
    "\n",
    "#### Cleaning the data\n",
    "* Kill Spotify made playlists (can introduce outliers to the data), Spotify playlists can be promoted to users\n",
    "* Convert categorical variable to dummy variables (genre, mood)\n",
    "* Watch out for/drop nulls\n",
    "\n",
    "#### Data Visualization\n",
    "Some combination of the following:\n",
    "* Histogram of number of tracks in playlists \n",
    "* Relationship between Number of tracks in playlist <> 30 days MAU\n",
    "* Histogram of number of albums in playlist \n",
    "* Relationship between num albums in playlist <> 30 days MAU  \n",
    "* Histogram of genres \n",
    "* Relationship of genre <> 30 days MAU \n",
    "* Histogram of number of artists in playlists\n",
    "* Relationship of number of artists in playlists <> 30 days MAU  \n",
    "* Histogram of moods of playlist \n",
    "* Relationship of moods <> 30 days MAU \n",
    "\n",
    "Using these, there will probably be strong correlations but we can't determine causation yet. We'll move to a linear regression to help determine predicting"
   ]
  },
  {
   "cell_type": "code",
   "execution_count": 120,
   "metadata": {},
   "outputs": [
    {
     "data": {
      "image/png": "[encoded data removed]",
      "text/plain": [
       "<Figure size 432x288 with 1 Axes>"
      ]
     },
     "metadata": {
      "needs_background": "light"
     },
     "output_type": "display_data"
    }
   ],
   "source": [
    "plotter(x = \"n_albums\"\n",
    "        ,y = \"monthly_owner_stream30s\"\n",
    "        ,x_lab = \"Number of Albums in Playlist\"\n",
    "        ,y_lab = \"Monthly Streams (last 30 days)\"\n",
    "        ,chart_title = \"Relationship between Albums in Playlist and Streams (Last 30 Days)\"\n",
    "       )"
   ]
  },
  {
   "cell_type": "markdown",
   "metadata": {},
   "source": [
    "### Regression\n",
    "* Run linear regression\n",
    "* Prune\n",
    "* Answer and recommendation"
   ]
  },
  {
   "cell_type": "code",
   "execution_count": null,
   "metadata": {},
   "outputs": [],
   "source": []
  },
  {
   "cell_type": "markdown",
   "metadata": {},
   "source": [
    "### Next steps:\n",
    "* What I would do next\n",
    "    * Try more models\n",
    "    * Gather/create more data fields\n",
    "\n",
    "* [Insert Recommendation] and Run an A/B test to determine if we see a meaningful difference in MAU 30"
   ]
  },
  {
   "cell_type": "code",
   "execution_count": null,
   "metadata": {},
   "outputs": [],
   "source": []
  },
  {
   "cell_type": "code",
   "execution_count": null,
   "metadata": {},
   "outputs": [],
   "source": []
  },
  {
   "cell_type": "markdown",
   "metadata": {},
   "source": [
    "## Archive"
   ]
  },
  {
   "cell_type": "code",
   "execution_count": null,
   "metadata": {},
   "outputs": [],
   "source": [
    "# plt.scatter( wau_num_tracks.n_albums,wau_num_tracks.monthly_stream30s, color = \"green\")\n",
    "# plt.title(\"AVG Weekly Active Users to Number of Tracks in Playlist\")\n",
    "# plt.xlabel(\"Number Tracks in Playlist\")\n",
    "# plt.ylabel(\"AVG WAU\")\n",
    "# plt.tight_layout()\n",
    "# plt.show()"
   ]
  }
 ],
 "metadata": {
  "kernelspec": {
   "display_name": "Python 3",
   "language": "python",
   "name": "python3"
  },
  "language_info": {
   "codemirror_mode": {
    "name": "ipython",
    "version": 3
   },
   "file_extension": ".py",
   "mimetype": "text/x-python",
   "name": "python",
   "nbconvert_exporter": "python",
   "pygments_lexer": "ipython3",
   "version": "3.8.3"
  }
 },
 "nbformat": 4,
 "nbformat_minor": 4
}
